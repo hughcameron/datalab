{
 "cells": [
  {
   "cell_type": "markdown",
   "metadata": {},
   "source": [
    "# Updating Conda Packages to the Latest Version\n",
    "\n",
    "This notebook makes it easy to update package versions for my favourite packages. The JupyterLab Docker image I use is maintained here: https://github.com/hughcameron/jupyterlab\n",
    "\n",
    "To update packages I'll run `conda update --all -y` within the shell of the running container. This command is also used in the Dockerfile.\n",
    "\n",
    "By running the cells below and commiting the contents of `environment.yml` back to GitHub a "
   ]
  },
  {
   "cell_type": "code",
   "execution_count": 1,
   "metadata": {},
   "outputs": [],
   "source": [
    "!conda env export --name base > full_environment.yml"
   ]
  },
  {
   "cell_type": "code",
   "execution_count": 2,
   "metadata": {},
   "outputs": [
    {
     "name": "stdout",
     "output_type": "stream",
     "text": [
      "--2020-03-11 10:13:24--  https://raw.githubusercontent.com/hughcameron/jupyterlab/master/environment.yml\n",
      "Resolving raw.githubusercontent.com (raw.githubusercontent.com)... 151.101.52.133\n",
      "Connecting to raw.githubusercontent.com (raw.githubusercontent.com)|151.101.52.133|:443... connected.\n",
      "HTTP request sent, awaiting response... 200 OK\n",
      "Length: 981 [text/plain]\n",
      "Saving to: ‘environment.yml’\n",
      "\n",
      "environment.yml     100%[===================>]     981  --.-KB/s    in 0s      \n",
      "\n",
      "2020-03-11 10:13:24 (125 MB/s) - ‘environment.yml’ saved [981/981]\n",
      "\n"
     ]
    }
   ],
   "source": [
    "!wget https://raw.githubusercontent.com/hughcameron/jupyterlab/master/environment.yml"
   ]
  },
  {
   "cell_type": "code",
   "execution_count": 3,
   "metadata": {},
   "outputs": [],
   "source": [
    "import yaml"
   ]
  },
  {
   "cell_type": "code",
   "execution_count": 4,
   "metadata": {},
   "outputs": [
    {
     "name": "stderr",
     "output_type": "stream",
     "text": [
      "/opt/conda/lib/python3.7/site-packages/ipykernel_launcher.py:2: YAMLLoadWarning: calling yaml.load() without Loader=... is deprecated, as the default Loader is unsafe. Please read https://msg.pyyaml.org/load for full details.\n",
      "  \n",
      "/opt/conda/lib/python3.7/site-packages/ipykernel_launcher.py:5: YAMLLoadWarning: calling yaml.load() without Loader=... is deprecated, as the default Loader is unsafe. Please read https://msg.pyyaml.org/load for full details.\n",
      "  \"\"\"\n"
     ]
    }
   ],
   "source": [
    "with open('full_environment.yml', 'r') as f:\n",
    "    full_env = yaml.load(f.read())\n",
    "\n",
    "with open('environment.yml', 'r') as f:\n",
    "    git_env = yaml.load(f.read())"
   ]
  },
  {
   "cell_type": "code",
   "execution_count": 5,
   "metadata": {},
   "outputs": [],
   "source": [
    "def list_deps(env): return {pack.split('=')[0]:pack for pack in env['dependencies'] if type(pack) is str}"
   ]
  },
  {
   "cell_type": "code",
   "execution_count": 6,
   "metadata": {},
   "outputs": [],
   "source": [
    "full_deps = list_deps(full_env)"
   ]
  },
  {
   "cell_type": "code",
   "execution_count": 7,
   "metadata": {},
   "outputs": [],
   "source": [
    "git_deps = list_deps(git_env)"
   ]
  },
  {
   "cell_type": "code",
   "execution_count": 8,
   "metadata": {},
   "outputs": [],
   "source": [
    "package_updates = {k:v for k,v in full_deps.items() if k in git_deps.keys()}"
   ]
  },
  {
   "cell_type": "code",
   "execution_count": 9,
   "metadata": {},
   "outputs": [],
   "source": [
    "dependancy_updates = []\n",
    "for pack in git_env['dependencies']:\n",
    "    if type(pack) is not str:\n",
    "        dependancy_updates.append(pack)\n",
    "    else:\n",
    "        pack_name = pack.split('=')[0]\n",
    "        if pack_name in package_updates.keys():\n",
    "            dependancy_updates.append(package_updates[pack_name])\n",
    "        else:\n",
    "            dependancy_updates.append(pack_name)"
   ]
  },
  {
   "cell_type": "code",
   "execution_count": 10,
   "metadata": {},
   "outputs": [],
   "source": [
    "git_env['dependencies'] = dependancy_updates"
   ]
  },
  {
   "cell_type": "code",
   "execution_count": 11,
   "metadata": {},
   "outputs": [],
   "source": [
    "with open('environment.yml', 'w') as f:\n",
    "    git_env = f.write(yaml.dump(git_env))"
   ]
  },
  {
   "cell_type": "code",
   "execution_count": null,
   "metadata": {},
   "outputs": [],
   "source": []
  }
 ],
 "metadata": {
  "kernelspec": {
   "display_name": "Python 3",
   "language": "python",
   "name": "python3"
  },
  "language_info": {
   "codemirror_mode": {
    "name": "ipython",
    "version": 3
   },
   "file_extension": ".py",
   "mimetype": "text/x-python",
   "name": "python",
   "nbconvert_exporter": "python",
   "pygments_lexer": "ipython3",
   "version": "3.7.6"
  }
 },
 "nbformat": 4,
 "nbformat_minor": 4
}
